{
 "cells": [
  {
   "cell_type": "markdown",
   "id": "177d18b4",
   "metadata": {},
   "source": [
    "# 在 python 中，strings, tuples, 和 numbers 是不可更改的对象，而 list,dict 等则是可以修改的对象。"
   ]
  },
  {
   "cell_type": "markdown",
   "id": "3a040f9e",
   "metadata": {},
   "source": [
    "### numeric list reverse"
   ]
  },
  {
   "cell_type": "code",
   "execution_count": 1,
   "id": "7a769a9c",
   "metadata": {},
   "outputs": [
    {
     "name": "stdout",
     "output_type": "stream",
     "text": [
      "[19, 18, 17, 16, 15, 14, 13, 12, 11, 10, 9, 8, 7, 6, 5, 4, 3, 2, 1, 0]\n"
     ]
    }
   ],
   "source": [
    "numbers = list(range(20))\n",
    "print(numbers[::-1])"
   ]
  },
  {
   "cell_type": "markdown",
   "id": "845aa4c6",
   "metadata": {},
   "source": [
    "### unpacking list *"
   ]
  },
  {
   "cell_type": "code",
   "execution_count": null,
   "id": "e14e57d0",
   "metadata": {},
   "outputs": [],
   "source": [
    "# numbers = [1, 3, 5, 7, 3, 6, 9, 21, 0]\n",
    "\n",
    "# first, second, *other = numbers\n",
    "\n",
    "# print(first)\n",
    "# print(other)"
   ]
  },
  {
   "cell_type": "markdown",
   "id": "393986d1",
   "metadata": {},
   "source": [
    "### enumerate 返回可迭代的枚举对象，类型为tuple； index and letter 用来unpacking tuple(括号形状的)"
   ]
  },
  {
   "cell_type": "code",
   "execution_count": 5,
   "id": "38717b24",
   "metadata": {},
   "outputs": [
    {
     "name": "stdout",
     "output_type": "stream",
     "text": [
      "0 a\n",
      "1 b\n",
      "2 c\n",
      "<class 'int'>\n",
      "<class 'str'>\n"
     ]
    }
   ],
   "source": [
    "letters = ['a', 'b', 'c']\n",
    "for index, letter in enumerate(letters):\n",
    "    print(index, letter)\n",
    "    \n",
    "print(type(index))\n",
    "print(type(letter))\n"
   ]
  },
  {
   "cell_type": "markdown",
   "id": "c1dd24cc",
   "metadata": {},
   "source": [
    "### list functions 删除列表中所有的“d”"
   ]
  },
  {
   "cell_type": "code",
   "execution_count": 3,
   "id": "e51aa47a",
   "metadata": {},
   "outputs": [
    {
     "name": "stdout",
     "output_type": "stream",
     "text": [
      "['a', 'b', 'c', 'b', 'f', 'd', 'j']\n"
     ]
    }
   ],
   "source": [
    "letters = ['a', 'b', 'c', 'd', 'b', 'f', 'd', 'j']\n",
    "\n",
    "for letter in letters:\n",
    "    letters.remove('d')\n",
    "    break\n",
    "print(letters)"
   ]
  },
  {
   "cell_type": "markdown",
   "id": "b4a30a76",
   "metadata": {},
   "source": [
    "### list function 常见功能"
   ]
  },
  {
   "cell_type": "markdown",
   "id": "99062a14",
   "metadata": {},
   "source": [
    "#### add: append and insert(with location)"
   ]
  },
  {
   "cell_type": "code",
   "execution_count": 5,
   "id": "ef614a80",
   "metadata": {},
   "outputs": [
    {
     "name": "stdout",
     "output_type": "stream",
     "text": [
      "['a', 'b', 'c', 'd', 'b', 'f', 'd', 'j', 'g']\n",
      "['m', 'a', 'b', 'c', 'd', 'b', 'f', 'd', 'j', 'g']\n"
     ]
    }
   ],
   "source": [
    "letters = ['a', 'b', 'c', 'd', 'b', 'f', 'd', 'j']\n",
    "\n",
    "# add\n",
    "letters.append('g')\n",
    "print(letters)\n",
    "letters.insert(0, 'm')\n",
    "print(letters)"
   ]
  },
  {
   "cell_type": "markdown",
   "id": "c53468d0",
   "metadata": {},
   "source": [
    "#### remove: pop, remove(a specific object), del (location), clear()"
   ]
  },
  {
   "cell_type": "code",
   "execution_count": 13,
   "id": "9fd21cf8",
   "metadata": {},
   "outputs": [
    {
     "name": "stdout",
     "output_type": "stream",
     "text": [
      "['a', 'b', 'c', 'd', 'b', 'f', 'd']\n",
      "['a', 'b', 'c', 'b', 'f', 'd']\n",
      "['a', 'b', 'c', 'b', 'f']\n",
      "['b', 'f']\n",
      "None\n"
     ]
    }
   ],
   "source": [
    "letters = ['a', 'b', 'c', 'd', 'b', 'f', 'd', 'j']\n",
    "\n",
    "# pop出最后一个\n",
    "\n",
    "letters.pop()\n",
    "print(letters)\n",
    "\n",
    "# 删除list的第一个d\n",
    "letters.remove('d')\n",
    "print(letters)\n",
    "\n",
    "# 删除list中所有的“d”\n",
    "\n",
    "\n",
    "\n",
    "for letter in letters:\n",
    "    letters.remove('d')\n",
    "    break\n",
    "print(letters)\n",
    "\n",
    "\n",
    "# del 特定位置的\n",
    "del letters[0:3]\n",
    "print(letters)\n",
    "\n",
    "\n",
    "# 全删了！\n",
    "\n",
    "print(letters.clear())\n",
    "\n"
   ]
  },
  {
   "cell_type": "markdown",
   "id": "9e0d2a2a",
   "metadata": {},
   "source": [
    "#### index 索引 (return location) list.index('object')"
   ]
  },
  {
   "cell_type": "code",
   "execution_count": 15,
   "id": "32860f1f",
   "metadata": {},
   "outputs": [
    {
     "name": "stdout",
     "output_type": "stream",
     "text": [
      "0\n"
     ]
    }
   ],
   "source": [
    "letters = ['a', 'b', 'c', 'd', 'a', 'b']\n",
    "print(letters.index('a'))"
   ]
  },
  {
   "cell_type": "markdown",
   "id": "0c43531e",
   "metadata": {},
   "source": [
    "#### count 返回列表给定项的出现次数 list.count('object')"
   ]
  },
  {
   "cell_type": "code",
   "execution_count": 18,
   "id": "17b86818",
   "metadata": {},
   "outputs": [
    {
     "name": "stdout",
     "output_type": "stream",
     "text": [
      "2\n"
     ]
    }
   ],
   "source": [
    "print(letters.count('b'))"
   ]
  },
  {
   "cell_type": "markdown",
   "id": "312d15ee",
   "metadata": {},
   "source": [
    "## 排序 list(tuple).sort(key = )"
   ]
  },
  {
   "cell_type": "code",
   "execution_count": 36,
   "id": "0f579c29",
   "metadata": {},
   "outputs": [
    {
     "name": "stdout",
     "output_type": "stream",
     "text": [
      "[('product4', 8), ('product2', 9), ('product1', 10), ('product3', 12)]\n"
     ]
    }
   ],
   "source": [
    "items = [('product1', 10),\n",
    "        ('product2', 9),\n",
    "        ('product3', 12),\n",
    "        ('product4', 8)]\n",
    "# for item in items: 好像一般都不写\n",
    "def sort_item(item):\n",
    "    return item[1]\n",
    "\n",
    "# 返回后面的数字\n",
    "\n",
    "items.sort(key = sort_item)\n",
    "print(items) #直接作用于原list"
   ]
  },
  {
   "cell_type": "markdown",
   "id": "8fafbd0a",
   "metadata": {},
   "source": [
    "### lambda function"
   ]
  },
  {
   "cell_type": "code",
   "execution_count": 28,
   "id": "28ea455b",
   "metadata": {},
   "outputs": [],
   "source": [
    "# lambda parameters(参数): expression（函数返回值）"
   ]
  },
  {
   "cell_type": "code",
   "execution_count": 26,
   "id": "da05e99b",
   "metadata": {},
   "outputs": [
    {
     "name": "stdout",
     "output_type": "stream",
     "text": [
      "[('product3', 12), ('product1', 10), ('product2', 9), ('product4', 8)]\n"
     ]
    }
   ],
   "source": [
    "items = [('product1', 10),\n",
    "        ('product2', 9),\n",
    "        ('product3', 12),\n",
    "        ('product4', 8)]\n",
    "for item in items:\n",
    "    items.sort(key = lambda item: item[1], reverse = True)\n",
    "print(items)"
   ]
  },
  {
   "cell_type": "markdown",
   "id": "095c0940",
   "metadata": {},
   "source": [
    "### map function!!! map(function函数, iterable序列, ...)"
   ]
  },
  {
   "cell_type": "code",
   "execution_count": 21,
   "id": "52b846a1",
   "metadata": {},
   "outputs": [
    {
     "name": "stdout",
     "output_type": "stream",
     "text": [
      "[10, 9, 12, 8]\n"
     ]
    }
   ],
   "source": [
    "items = [('product1', 10),\n",
    "        ('product2', 9),\n",
    "        ('product3', 12),\n",
    "        ('product4', 8)]\n",
    "\n",
    "prices = []\n",
    "for item in items:\n",
    "    prices.append(item[1])\n",
    "\n",
    "print(prices)"
   ]
  },
  {
   "cell_type": "code",
   "execution_count": 23,
   "id": "b1a8919c",
   "metadata": {},
   "outputs": [
    {
     "name": "stdout",
     "output_type": "stream",
     "text": [
      "[10, 9, 12, 8]\n"
     ]
    }
   ],
   "source": [
    "prices = list(map(lambda item: item[1], items))\n",
    "print(prices)"
   ]
  },
  {
   "cell_type": "markdown",
   "id": "8d80f297",
   "metadata": {},
   "source": [
    "#### filtered !! list中某产品的价格是得大于10"
   ]
  },
  {
   "cell_type": "code",
   "execution_count": 25,
   "id": "6c1bd84d",
   "metadata": {},
   "outputs": [
    {
     "name": "stdout",
     "output_type": "stream",
     "text": [
      "<filter object at 0x7ff1d1060940>\n"
     ]
    }
   ],
   "source": [
    "items = [('product1', 10),\n",
    "        ('product2', 9),\n",
    "        ('product3', 12),\n",
    "        ('product4', 8)]\n",
    "\n",
    "x = filter(lambda item: item[1] >= 10, items)\n",
    "print(x)"
   ]
  },
  {
   "cell_type": "code",
   "execution_count": 26,
   "id": "61de152c",
   "metadata": {},
   "outputs": [
    {
     "name": "stdout",
     "output_type": "stream",
     "text": [
      "[('product1', 10), ('product3', 12)]\n"
     ]
    }
   ],
   "source": [
    "##以上得到过滤器对象，是可以迭代的，可以进行loop。也可以立刻换成列表\n",
    "\n",
    "filtered = list(filter(lambda item: item[1] >= 10, items))\n",
    "print(filtered)"
   ]
  },
  {
   "cell_type": "markdown",
   "id": "445aa4b5",
   "metadata": {},
   "source": [
    "#### list comprehension (oh my it's so cooooooool!)"
   ]
  },
  {
   "cell_type": "code",
   "execution_count": 27,
   "id": "194128d5",
   "metadata": {},
   "outputs": [
    {
     "name": "stdout",
     "output_type": "stream",
     "text": [
      "[10, 9, 12, 8]\n",
      "[('product1', 10), ('product3', 12)]\n"
     ]
    }
   ],
   "source": [
    "# expression for item in items\n",
    "# which means:\n",
    "\n",
    "items = [('product1', 10),\n",
    "        ('product2', 9),\n",
    "        ('product3', 12),\n",
    "        ('product4', 8)]\n",
    "\n",
    "prices = [item[1] for item in items]\n",
    "\n",
    "print(prices)\n",
    "\n",
    "filtered = [item for item in items if item[1] >= 10]\n",
    "\n",
    "print(filtered)"
   ]
  },
  {
   "cell_type": "markdown",
   "id": "e5a7c685",
   "metadata": {},
   "source": [
    "####  zip function (kind of useful hahahaha)"
   ]
  },
  {
   "cell_type": "code",
   "execution_count": 32,
   "id": "1758b296",
   "metadata": {},
   "outputs": [
    {
     "name": "stdout",
     "output_type": "stream",
     "text": [
      "[(1, 10), (2, 20), (3, 30)]\n",
      "[('a', 1, 10), ('b', 2, 20), ('c', 3, 30)]\n"
     ]
    }
   ],
   "source": [
    "list1 = [1, 2, 3]\n",
    "list2 = [10, 20, 30]\n",
    "# 组合成[(1,10), (2, 20), (3, 30)]这样的！！\n",
    "\n",
    "\n",
    "print(list(zip(list1, list2)))\n",
    "\n",
    "print(list(zip('abc', list1, list2)))\n",
    "\n"
   ]
  },
  {
   "cell_type": "markdown",
   "id": "d64a690a",
   "metadata": {},
   "source": [
    "#### stacks! 堆栈 omg终于讲到这个惹！"
   ]
  },
  {
   "cell_type": "code",
   "execution_count": 40,
   "id": "c4597ebe",
   "metadata": {},
   "outputs": [
    {
     "name": "stdout",
     "output_type": "stream",
     "text": [
      "[1, 2, 3]\n",
      "3\n",
      "[1, 2]\n",
      "2\n"
     ]
    }
   ],
   "source": [
    "# imagine一堆书，放在书堆顶的最后一本书，是可以被删除的第一本书，\n",
    "# 这种行为叫lifo， which means last in , first out\n",
    "\n",
    "browsing_session = []\n",
    "browsing_session.append(1)\n",
    "browsing_session.append(2)\n",
    "browsing_session.append(3)\n",
    "\n",
    "print(browsing_session)\n",
    "\n",
    "last = browsing_session.pop()\n",
    "print(last)\n",
    "print(browsing_session)\n",
    "\n",
    "\n",
    "print(browsing_session[-1])\n",
    "\n",
    "# 这里是检查堆栈是否为空\n",
    "if not browsing_session: \n",
    "    print('disable')"
   ]
  },
  {
   "cell_type": "markdown",
   "id": "8c0582c5",
   "metadata": {},
   "source": [
    "#### False values:"
   ]
  },
  {
   "cell_type": "code",
   "execution_count": null,
   "id": "4e1b7d96",
   "metadata": {},
   "outputs": [],
   "source": [
    "0\n",
    "''\n",
    "[]"
   ]
  },
  {
   "cell_type": "markdown",
   "id": "93209d3e",
   "metadata": {},
   "source": [
    "### deque "
   ]
  },
  {
   "cell_type": "code",
   "execution_count": 42,
   "id": "250ab3bd",
   "metadata": {},
   "outputs": [
    {
     "name": "stdout",
     "output_type": "stream",
     "text": [
      "deque([2, 3])\n"
     ]
    }
   ],
   "source": [
    "# 减少第一个，使用deque 减少内存消耗\n",
    "from collections import deque\n",
    "queue = deque([])\n",
    "queue.append(1)\n",
    "queue.append(2)\n",
    "queue.append(3)\n",
    "queue.popleft()\n",
    "print(queue)\n",
    "\n",
    "if not queue:\n",
    "    print('empty')"
   ]
  },
  {
   "cell_type": "markdown",
   "id": "d337c04a",
   "metadata": {},
   "source": [
    "### tuple 可以使用（1，2）也可以直接用1，2"
   ]
  },
  {
   "cell_type": "code",
   "execution_count": 44,
   "id": "e53ac64d",
   "metadata": {},
   "outputs": [
    {
     "name": "stdout",
     "output_type": "stream",
     "text": [
      "<class 'tuple'>\n"
     ]
    }
   ],
   "source": [
    "point = 1,\n",
    "print(type(point))"
   ]
  },
  {
   "cell_type": "markdown",
   "id": "c22c00fd",
   "metadata": {},
   "source": [
    "### array 仅支持同款数据类型（比如只有float或者只有int), 因此尽量使用list "
   ]
  },
  {
   "cell_type": "code",
   "execution_count": 46,
   "id": "52fbb52b",
   "metadata": {},
   "outputs": [
    {
     "ename": "TypeError",
     "evalue": "integer argument expected, got float",
     "output_type": "error",
     "traceback": [
      "\u001b[0;31m---------------------------------------------------------------------------\u001b[0m",
      "\u001b[0;31mTypeError\u001b[0m                                 Traceback (most recent call last)",
      "Cell \u001b[0;32mIn[46], line 5\u001b[0m\n\u001b[1;32m      1\u001b[0m \u001b[38;5;28;01mfrom\u001b[39;00m \u001b[38;5;21;01marray\u001b[39;00m \u001b[38;5;28;01mimport\u001b[39;00m array\n\u001b[1;32m      3\u001b[0m numbers \u001b[38;5;241m=\u001b[39m array(\u001b[38;5;124m'\u001b[39m\u001b[38;5;124mi\u001b[39m\u001b[38;5;124m'\u001b[39m, [\u001b[38;5;241m1\u001b[39m, \u001b[38;5;241m2\u001b[39m, \u001b[38;5;241m4\u001b[39m])\n\u001b[0;32m----> 5\u001b[0m \u001b[43mnumbers\u001b[49m\u001b[38;5;241;43m.\u001b[39;49m\u001b[43mappend\u001b[49m\u001b[43m(\u001b[49m\u001b[38;5;241;43m4.5\u001b[39;49m\u001b[43m)\u001b[49m\n\u001b[1;32m      7\u001b[0m \u001b[38;5;28mprint\u001b[39m(numbers)\n",
      "\u001b[0;31mTypeError\u001b[0m: integer argument expected, got float"
     ]
    }
   ],
   "source": [
    "from array import array\n",
    "\n",
    "numbers = array('i', [1, 2, 4])\n",
    "\n",
    "numbers.append(4.5)\n",
    "\n",
    "print(numbers)"
   ]
  },
  {
   "cell_type": "markdown",
   "id": "96314990",
   "metadata": {},
   "source": [
    "### set 集合！集合元素无序本身有序，无序表明无法通过索引或者位置访问或操作元素，本身有序表明进行迭代遍历集合时，按照特殊顺序访问其中的元素，但这个顺序不是元素本身的顺序。"
   ]
  },
  {
   "cell_type": "code",
   "execution_count": 48,
   "id": "9fe07f88",
   "metadata": {},
   "outputs": [
    {
     "name": "stdout",
     "output_type": "stream",
     "text": [
      "{1, 2, 3, 4}\n"
     ]
    }
   ],
   "source": [
    "numbers = [1,1,2,3,4]\n",
    "\n",
    "# 删除重复项\n",
    "uniques = set(numbers)\n",
    "\n",
    "print(uniques)\n",
    "\n"
   ]
  },
  {
   "cell_type": "code",
   "execution_count": 55,
   "id": "2e8d64f1",
   "metadata": {},
   "outputs": [
    {
     "name": "stdout",
     "output_type": "stream",
     "text": [
      "{1, 2, 3, 4, 5}\n",
      "{1}\n",
      "{2, 3, 4}\n",
      "{2, 3, 4, 5}\n"
     ]
    }
   ],
   "source": [
    "numbers = [1,1,2,3,4]\n",
    "\n",
    "\n",
    "first = set(numbers)\n",
    "second = {1, 5}\n",
    "\n",
    "# 并集\n",
    "print(first | second)\n",
    "\n",
    "# 交集\n",
    "print(first & second)\n",
    "\n",
    "# 两个集合的差集\n",
    "print(first - second)\n",
    "\n",
    "# 既不在同时a也不在b\n",
    "print(first ^ second)\n"
   ]
  },
  {
   "cell_type": "markdown",
   "id": "0577bf50",
   "metadata": {},
   "source": [
    "### dictionary 字典！（字典中每一个键都是唯一的，不存在重复的键）"
   ]
  },
  {
   "cell_type": "code",
   "execution_count": 56,
   "id": "a8293e47",
   "metadata": {},
   "outputs": [
    {
     "name": "stdout",
     "output_type": "stream",
     "text": [
      "1\n"
     ]
    }
   ],
   "source": [
    "# example: string as key, integral as value\n",
    "point = {'x': 1, 'y': 2}\n",
    "#  dict() is just like list(), tuple(),set(),dict()\n",
    "# 就是字典的索引值是key值\n",
    "point= dict(x = 1, y = 2)\n",
    "print(point['x'])\n"
   ]
  },
  {
   "cell_type": "code",
   "execution_count": 61,
   "id": "a7c9b366",
   "metadata": {},
   "outputs": [
    {
     "name": "stdout",
     "output_type": "stream",
     "text": [
      "None\n",
      "0\n",
      "{'y': 2}\n"
     ]
    }
   ],
   "source": [
    "# 检查字典中是否有某个key值\n",
    "point = {'x': 1, 'y': 2}\n",
    "\n",
    "# first method：\n",
    "if 'a' in point:\n",
    "    print(point['a'])\n",
    "    \n",
    "# second method: get method\n",
    "print(point.get('a'))\n",
    "\n",
    "# 没有的话默认返回none， 但是你可以自定义如：\n",
    "print(point.get('a', 0))\n",
    "\n",
    "\n",
    "# 删除某个key值：\n",
    "del point['x']\n",
    "print(point)"
   ]
  },
  {
   "cell_type": "markdown",
   "id": "991f145b",
   "metadata": {},
   "source": [
    "### 循环字典"
   ]
  },
  {
   "cell_type": "code",
   "execution_count": 62,
   "id": "4a94473e",
   "metadata": {},
   "outputs": [
    {
     "name": "stdout",
     "output_type": "stream",
     "text": [
      "y\n"
     ]
    }
   ],
   "source": [
    "# first method:\n",
    "for x in point:\n",
    "    print(x)"
   ]
  },
  {
   "cell_type": "code",
   "execution_count": 63,
   "id": "ee190d94",
   "metadata": {},
   "outputs": [
    {
     "name": "stdout",
     "output_type": "stream",
     "text": [
      "y 2\n"
     ]
    }
   ],
   "source": [
    "for key in point:\n",
    "    print(key, point[key])"
   ]
  },
  {
   "cell_type": "code",
   "execution_count": 64,
   "id": "87071057",
   "metadata": {},
   "outputs": [
    {
     "name": "stdout",
     "output_type": "stream",
     "text": [
      "('y', 2)\n"
     ]
    }
   ],
   "source": [
    "# another method:\n",
    "for x in point.items():\n",
    "    print(x)"
   ]
  },
  {
   "cell_type": "code",
   "execution_count": 65,
   "id": "3f370fd2",
   "metadata": {},
   "outputs": [
    {
     "name": "stdout",
     "output_type": "stream",
     "text": [
      "y 2\n"
     ]
    }
   ],
   "source": [
    "# it's a tuple! so you can use:\n",
    "for key, value in point.items():\n",
    "    print(key, value)"
   ]
  },
  {
   "cell_type": "markdown",
   "id": "11f27c82",
   "metadata": {},
   "source": [
    "## dictionary comprehension"
   ]
  },
  {
   "cell_type": "code",
   "execution_count": 69,
   "id": "bf8ca854",
   "metadata": {},
   "outputs": [
    {
     "name": "stdout",
     "output_type": "stream",
     "text": [
      "[0, 2, 4, 6, 8]\n"
     ]
    }
   ],
   "source": [
    "values = []\n",
    "for x in range(5):\n",
    "    values.append(x * 2)\n",
    "print(values)"
   ]
  },
  {
   "cell_type": "code",
   "execution_count": 72,
   "id": "7be5bbfd",
   "metadata": {},
   "outputs": [
    {
     "name": "stdout",
     "output_type": "stream",
     "text": [
      "[0, 2, 4, 6, 8]\n",
      "{0: 0, 1: 2, 2: 4, 3: 6, 4: 8}\n"
     ]
    }
   ],
   "source": [
    "# expression for item in items\n",
    "values1 = [x * 2 for x in range(5)]\n",
    "print(values1)\n",
    "\n",
    "\n",
    "values2 = {x: x * 2 for x in range(5)}\n",
    "print(values2)"
   ]
  },
  {
   "cell_type": "markdown",
   "id": "7b6b6945",
   "metadata": {},
   "source": [
    " ## generator object 生成器对象 （不会将所有值储存在内存中！每次迭代都生成一个新值"
   ]
  },
  {
   "cell_type": "code",
   "execution_count": 73,
   "id": "7065cdaa",
   "metadata": {},
   "outputs": [
    {
     "name": "stdout",
     "output_type": "stream",
     "text": [
      "0\n",
      "2\n",
      "4\n",
      "6\n",
      "8\n",
      "10\n",
      "12\n",
      "14\n",
      "16\n",
      "18\n"
     ]
    }
   ],
   "source": [
    "values = [x * 2 for x in range(10)]\n",
    "for x in values:\n",
    "    print(x)"
   ]
  },
  {
   "cell_type": "code",
   "execution_count": 75,
   "id": "45ce3fda",
   "metadata": {},
   "outputs": [
    {
     "name": "stdout",
     "output_type": "stream",
     "text": [
      "<generator object <genexpr> at 0x7ff1d0e10f90>\n",
      "0\n",
      "2\n",
      "4\n",
      "6\n",
      "8\n",
      "10\n",
      "12\n",
      "14\n",
      "16\n",
      "18\n"
     ]
    }
   ],
   "source": [
    "values = (x * 2 for x in range(10))\n",
    "print(values)\n",
    "for x in values:\n",
    "    print(x)"
   ]
  },
  {
   "cell_type": "code",
   "execution_count": 81,
   "id": "424c84a0",
   "metadata": {},
   "outputs": [
    {
     "name": "stdout",
     "output_type": "stream",
     "text": [
      "generator 112\n"
     ]
    },
    {
     "ename": "TypeError",
     "evalue": "object of type 'generator' has no len()",
     "output_type": "error",
     "traceback": [
      "\u001b[0;31m---------------------------------------------------------------------------\u001b[0m",
      "\u001b[0;31mTypeError\u001b[0m                                 Traceback (most recent call last)",
      "Cell \u001b[0;32mIn[81], line 8\u001b[0m\n\u001b[1;32m      4\u001b[0m \u001b[38;5;28mprint\u001b[39m(\u001b[38;5;124m'\u001b[39m\u001b[38;5;124mgenerator\u001b[39m\u001b[38;5;124m'\u001b[39m, getsizeof(values))\n\u001b[1;32m      6\u001b[0m \u001b[38;5;66;03m# values = [x * 2 for x in range(1000000)]\u001b[39;00m\n\u001b[1;32m      7\u001b[0m \u001b[38;5;66;03m# print('list', getsizeof(values))\u001b[39;00m\n\u001b[0;32m----> 8\u001b[0m \u001b[38;5;28mprint\u001b[39m(\u001b[38;5;28;43mlen\u001b[39;49m\u001b[43m(\u001b[49m\u001b[43mvalues\u001b[49m\u001b[43m)\u001b[49m)\n",
      "\u001b[0;31mTypeError\u001b[0m: object of type 'generator' has no len()"
     ]
    }
   ],
   "source": [
    "from sys import getsizeof\n",
    "# 生成器对象需要多少内存：\n",
    "values = (x * 2 for x in range(1000000))\n",
    "print('generator', getsizeof(values))\n",
    "\n",
    "# values = [x * 2 for x in range(1000000)]\n",
    "# print('list', getsizeof(values))\n",
    "print(len(values)) \n",
    "# 生成器对象不能确认有多少个对象"
   ]
  },
  {
   "cell_type": "markdown",
   "id": "d2f5e799",
   "metadata": {},
   "source": [
    "### unpacking operator:\n"
   ]
  },
  {
   "cell_type": "code",
   "execution_count": 82,
   "id": "aefe0778",
   "metadata": {},
   "outputs": [
    {
     "name": "stdout",
     "output_type": "stream",
     "text": [
      "[0, 1, 2, 3, 4]\n",
      "[0, 1, 2, 3, 4, 'h', 'e', 'l', 'l', 'o', ' ', 'j', 'e', 's', 's', 'e']\n"
     ]
    }
   ],
   "source": [
    "values = list(range(5))\n",
    "print(values)\n",
    "\n",
    "values = [*range(5), *'hello jesse']\n",
    "print(values)\n"
   ]
  },
  {
   "cell_type": "code",
   "execution_count": 88,
   "id": "dc163a52",
   "metadata": {},
   "outputs": [
    {
     "name": "stdout",
     "output_type": "stream",
     "text": [
      "{' ': 5,\n",
      " 'T': 1,\n",
      " 'a': 1,\n",
      " 'c': 1,\n",
      " 'e': 3,\n",
      " 'h': 1,\n",
      " 'i': 5,\n",
      " 'm': 2,\n",
      " 'n': 3,\n",
      " 'o': 3,\n",
      " 'q': 1,\n",
      " 'r': 1,\n",
      " 's': 3,\n",
      " 't': 2,\n",
      " 'u': 1,\n",
      " 'v': 1,\n",
      " 'w': 1}\n"
     ]
    }
   ],
   "source": [
    "# 确认字符串中哪一个字符出现的次数最多：\n",
    "from pprint import pprint\n",
    "sentence = \"This is a common interview question\"\n",
    "\n",
    "char_frequency = {}\n",
    "for char in sentence:\n",
    "    if char in char_frequency:\n",
    "        char_frequency[char] += 1\n",
    "        \n",
    "    else:\n",
    "        char_frequency[char] = 1\n",
    "        \n",
    "pprint(char_frequency, width = 1)"
   ]
  },
  {
   "cell_type": "code",
   "execution_count": 91,
   "id": "e1dc8e13",
   "metadata": {},
   "outputs": [
    {
     "name": "stdout",
     "output_type": "stream",
     "text": [
      "[('i', 5), (' ', 5), ('s', 3), ('o', 3), ('n', 3), ('e', 3), ('m', 2), ('t', 2), ('T', 1), ('h', 1), ('a', 1), ('c', 1), ('r', 1), ('v', 1), ('w', 1), ('q', 1), ('u', 1)]\n"
     ]
    }
   ],
   "source": [
    "from pprint import pprint\n",
    "sentence = \"This is a common interview question\"\n",
    "\n",
    "char_frequency = {}\n",
    "for char in sentence:\n",
    "    if char in char_frequency:\n",
    "        char_frequency[char] += 1\n",
    "        \n",
    "    else:\n",
    "        char_frequency[char] = 1\n",
    "print(sorted(char_frequency.items(), key = lambda kv: kv[1], reverse = True))"
   ]
  },
  {
   "cell_type": "code",
   "execution_count": 95,
   "id": "2dea588d",
   "metadata": {},
   "outputs": [
    {
     "name": "stdout",
     "output_type": "stream",
     "text": [
      "('i', 5)\n"
     ]
    }
   ],
   "source": [
    "from pprint import pprint\n",
    "sentence = \"This is a common interview question\"\n",
    "\n",
    "char_frequency = {}\n",
    "for char in sentence:\n",
    "    if char in char_frequency:\n",
    "        char_frequency[char] += 1\n",
    "        \n",
    "    else:\n",
    "        char_frequency[char] = 1\n",
    "char_frequency_sorted = sorted(char_frequency.items(), \n",
    "                               key = lambda kv: kv[1], \n",
    "                               reverse = True)\n",
    "print(char_frequency_sorted[0])"
   ]
  },
  {
   "cell_type": "code",
   "execution_count": 16,
   "id": "b9697b44",
   "metadata": {},
   "outputs": [
    {
     "name": "stdout",
     "output_type": "stream",
     "text": [
      "[3]\n"
     ]
    }
   ],
   "source": [
    "sentence = \"This is a common interview question\"\n",
    "\n",
    "for term in sentence:\n",
    "    items = [sentence.count(term)]\n",
    "\n",
    "print(items)\n",
    "            \n"
   ]
  },
  {
   "cell_type": "code",
   "execution_count": null,
   "id": "aea418f9",
   "metadata": {},
   "outputs": [],
   "source": []
  },
  {
   "cell_type": "code",
   "execution_count": null,
   "id": "6f9dc05e",
   "metadata": {},
   "outputs": [],
   "source": []
  }
 ],
 "metadata": {
  "kernelspec": {
   "display_name": "Python 3 (ipykernel)",
   "language": "python",
   "name": "python3"
  },
  "language_info": {
   "codemirror_mode": {
    "name": "ipython",
    "version": 3
   },
   "file_extension": ".py",
   "mimetype": "text/x-python",
   "name": "python",
   "nbconvert_exporter": "python",
   "pygments_lexer": "ipython3",
   "version": "3.8.10"
  }
 },
 "nbformat": 4,
 "nbformat_minor": 5
}
