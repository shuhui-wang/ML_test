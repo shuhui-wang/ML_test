{
 "cells": [
  {
   "cell_type": "markdown",
   "id": "39ed970d",
   "metadata": {},
   "source": [
    "# class is a blueprint for creating new objects\n",
    "# object is the instance of class"
   ]
  },
  {
   "cell_type": "code",
   "execution_count": 5,
   "id": "b08c8778",
   "metadata": {},
   "outputs": [],
   "source": [
    "## class: Human, define all the attributes of humans\n",
    "## objects: John, Mary, Jack"
   ]
  },
  {
   "cell_type": "code",
   "execution_count": 2,
   "id": "305a41c0",
   "metadata": {},
   "outputs": [],
   "source": [
    "# variables and functions use all lowercase letters, and seperate multiple words with underscore\n",
    "# Class: first letter of every word should be uppercase, and do not use underscore to seperate multiple words"
   ]
  },
  {
   "cell_type": "code",
   "execution_count": 13,
   "id": "17fb62d5",
   "metadata": {},
   "outputs": [],
   "source": [
    "#  just consider Point class as int class"
   ]
  },
  {
   "cell_type": "code",
   "execution_count": 3,
   "id": "07db5ca8",
   "metadata": {},
   "outputs": [
    {
     "name": "stdout",
     "output_type": "stream",
     "text": [
      "<class '__main__.Point'>\n"
     ]
    }
   ],
   "source": [
    "class Point:\n",
    "    #(this block, define all the functions related to Point)\n",
    "    def draw(self):\n",
    "        print('draw')\n",
    "point = Point()\n",
    "print(type(point))"
   ]
  },
  {
   "cell_type": "code",
   "execution_count": 4,
   "id": "715f7893",
   "metadata": {},
   "outputs": [
    {
     "name": "stdout",
     "output_type": "stream",
     "text": [
      "True\n"
     ]
    }
   ],
   "source": [
    "print(isinstance(point, Point))  #判断point对象是否属于Point类"
   ]
  },
  {
   "cell_type": "markdown",
   "id": "58a85101",
   "metadata": {},
   "source": [
    "## constructor"
   ]
  },
  {
   "cell_type": "code",
   "execution_count": 6,
   "id": "b80d4df3",
   "metadata": {},
   "outputs": [
    {
     "name": "stdout",
     "output_type": "stream",
     "text": [
      "{'x': 1, 'y': 2, 'z': 10}\n"
     ]
    }
   ],
   "source": [
    "class Point:\n",
    "    #(this block, define all the functions related to Point)\n",
    "    def __init__(self, x, y):\n",
    "        self.x = x\n",
    "        self.y = y\n",
    "        \n",
    "    def draw(self):\n",
    "        print(f'point ({self.x}, {self.y})')\n",
    "point = Point(1, 2)\n",
    "point.z = 10\n",
    "\n",
    "#  获得point的所有attributes \n",
    "point_attributes = vars(point)\n",
    "print(point_attributes)\n"
   ]
  },
  {
   "cell_type": "code",
   "execution_count": 23,
   "id": "1d91e087",
   "metadata": {},
   "outputs": [
    {
     "name": "stdout",
     "output_type": "stream",
     "text": [
      "red\n",
      "<__main__.Point object at 0x7f93211238b0>\n",
      "point (1, 2)\n"
     ]
    }
   ],
   "source": [
    "class Point:\n",
    "    default_color = 'red'\n",
    "    #(this block, define all the functions related to Point)\n",
    "    def __init__(self, x, y):\n",
    "        self.x = x\n",
    "        self.y = y\n",
    "        \n",
    "    def draw(self):\n",
    "        print(f'point ({self.x}, {self.y})')\n",
    "\n",
    "        \n",
    "point = Point(1, 2)\n",
    "print(point.default_color)\n",
    "Point.default_color\n",
    "point.z = 10\n",
    "print(point)\n",
    "point.draw()"
   ]
  },
  {
   "cell_type": "markdown",
   "id": "4a9f2b06",
   "metadata": {},
   "source": [
    "## class method"
   ]
  },
  {
   "cell_type": "code",
   "execution_count": 33,
   "id": "9c3ae622",
   "metadata": {},
   "outputs": [
    {
     "name": "stdout",
     "output_type": "stream",
     "text": [
      "point (0, 0)\n"
     ]
    }
   ],
   "source": [
    "class Point:\n",
    "    def __init__(self, x, y):\n",
    "        self.x = x\n",
    "        self.y = y\n",
    "    \n",
    "    @classmethod    \n",
    "    def zero(cls):\n",
    "        return cls(0, 0)\n",
    "        \n",
    "        \n",
    "    def draw(self):\n",
    "        print(f'point ({self.x}, {self.y})')\n",
    "\n",
    "point = Point.zero()\n",
    "point.draw()"
   ]
  },
  {
   "cell_type": "markdown",
   "id": "0d41c8a1",
   "metadata": {},
   "source": [
    "# magic methods (init, str)"
   ]
  },
  {
   "cell_type": "code",
   "execution_count": 10,
   "id": "9f98c84e",
   "metadata": {},
   "outputs": [
    {
     "name": "stdout",
     "output_type": "stream",
     "text": [
      "<__main__.Point object at 0x7fa2c81dfd30>\n"
     ]
    }
   ],
   "source": [
    "class Point:\n",
    "    def __init__(self, x, y):\n",
    "        self.x = x\n",
    "        self.y = y\n",
    "    \n",
    "        \n",
    "        \n",
    "    def draw(self):\n",
    "        print(f'point ({self.x}, {self.y})')\n",
    "\n",
    "point = Point(1, 2)\n",
    "print(point)"
   ]
  },
  {
   "cell_type": "code",
   "execution_count": 11,
   "id": "cba496ff",
   "metadata": {},
   "outputs": [
    {
     "name": "stdout",
     "output_type": "stream",
     "text": [
      "(1, 2)\n"
     ]
    }
   ],
   "source": [
    "class Point:\n",
    "    def __init__(self, x, y):\n",
    "        self.x = x\n",
    "        self.y = y\n",
    "    \n",
    "    def __str__(self):\n",
    "        return f'({self.x}, {self.y})'\n",
    "        \n",
    "    def draw(self):\n",
    "        print(f'point ({self.x}, {self.y})')\n",
    "\n",
    "point = Point(1, 2)\n",
    "\n",
    "print(point)"
   ]
  },
  {
   "cell_type": "code",
   "execution_count": 12,
   "id": "c6df96c8",
   "metadata": {},
   "outputs": [
    {
     "name": "stdout",
     "output_type": "stream",
     "text": [
      "(1, 2)\n"
     ]
    }
   ],
   "source": [
    "## or:\n",
    "\n",
    "class Point:\n",
    "    def __init__(self, x, y):\n",
    "        self.x = x\n",
    "        self.y = y\n",
    "    \n",
    "    def __str__(self):\n",
    "        return f'({self.x}, {self.y})'\n",
    "        \n",
    "    def draw(self):\n",
    "        print(f'point ({self.x}, {self.y})')\n",
    "\n",
    "point = Point(1, 2)\n",
    "\n",
    "print(str(point))\n"
   ]
  },
  {
   "cell_type": "markdown",
   "id": "41a7b69a",
   "metadata": {},
   "source": [
    "## comparing objects (eq, gt)"
   ]
  },
  {
   "cell_type": "code",
   "execution_count": 14,
   "id": "73958ca8",
   "metadata": {},
   "outputs": [
    {
     "name": "stdout",
     "output_type": "stream",
     "text": [
      "False\n"
     ]
    }
   ],
   "source": [
    "class Point:\n",
    "    def __init__(self, x, y):\n",
    "        self.x = x\n",
    "        self.y = y\n",
    "    \n",
    "point = Point(1, 2)\n",
    "other = Point(1, 2)\n",
    "print(point == other)#内存来自不同的地址"
   ]
  },
  {
   "cell_type": "code",
   "execution_count": 16,
   "id": "c1fca9fc",
   "metadata": {},
   "outputs": [
    {
     "name": "stdout",
     "output_type": "stream",
     "text": [
      "True\n"
     ]
    }
   ],
   "source": [
    "class Point:\n",
    "    def __init__(self, x, y):\n",
    "        self.x = x\n",
    "        self.y = y\n",
    "    def __eq__(self, other):\n",
    "        return self.x == other.x and self.y == other.y\n",
    "    \n",
    "point = Point(1, 2)\n",
    "other = Point(1, 2)\n",
    "print(point == other)"
   ]
  },
  {
   "cell_type": "code",
   "execution_count": 19,
   "id": "7200df30",
   "metadata": {},
   "outputs": [
    {
     "name": "stdout",
     "output_type": "stream",
     "text": [
      "False\n"
     ]
    }
   ],
   "source": [
    "class Point:\n",
    "    def __init__(self, x, y):\n",
    "        self.x = x\n",
    "        self.y = y\n",
    "    def __eq__(self, other):\n",
    "        return self.x == other.x and self.y == other.y\n",
    "    \n",
    "    def __gt__(self, other):\n",
    "        return self.x > other.y and self.y > other.y\n",
    "    \n",
    "    \n",
    "point = Point(10, 2)\n",
    "other = Point(1, 2)\n",
    "print(point < other)"
   ]
  },
  {
   "cell_type": "markdown",
   "id": "cf66c71b",
   "metadata": {},
   "source": [
    "# working with classes that have only data and no methods:\n"
   ]
  },
  {
   "cell_type": "code",
   "execution_count": 67,
   "id": "ba193f5e",
   "metadata": {},
   "outputs": [
    {
     "name": "stdout",
     "output_type": "stream",
     "text": [
      "True\n"
     ]
    }
   ],
   "source": [
    "from collections import namedtuple\n",
    "\n",
    "Point = namedtuple('Point', ['x', 'y'])\n",
    "p1 = Point(x = 1, y = 2)\n",
    "p2 = Point(x = 1, y = 2)\n",
    "print(p1 == p2)"
   ]
  },
  {
   "cell_type": "markdown",
   "id": "52542cba",
   "metadata": {},
   "source": [
    "## adding objects (add)"
   ]
  },
  {
   "cell_type": "code",
   "execution_count": 53,
   "id": "b6104e5b",
   "metadata": {},
   "outputs": [
    {
     "name": "stdout",
     "output_type": "stream",
     "text": [
      "(11, 22)\n"
     ]
    }
   ],
   "source": [
    "class Point:\n",
    "    def __init__(self, x, y):\n",
    "        self.x = x\n",
    "        self.y = y\n",
    "    def __add__(self, other):\n",
    "        return Point (self.x + other.x, self.y + other.y)\n",
    "    def __str__(self):\n",
    "        return f'({self.x + other.x}, {self.y + other.y})'\n",
    "    \n",
    "point = Point(10, 20)\n",
    "other = Point(1, 2)\n",
    "\n",
    "print(point)"
   ]
  },
  {
   "cell_type": "markdown",
   "id": "2fb31844",
   "metadata": {},
   "source": [
    "## customer containers:"
   ]
  },
  {
   "cell_type": "code",
   "execution_count": 54,
   "id": "68df27d0",
   "metadata": {},
   "outputs": [
    {
     "name": "stdout",
     "output_type": "stream",
     "text": [
      "2\n",
      "python\n",
      "java\n",
      "{'python': 12, 'java': 1}\n"
     ]
    }
   ],
   "source": [
    "# tags 是TagCloud类的实例变量，cloud是TagCloud类的实例。\n",
    "\n",
    "# TagCloud 类旨在将标签及其计数存储在类似字典的结构中。 tags和cloud之间的关系使用 self.tags 属性来表示，该属性是一个字典。\n",
    "\n",
    "# 在 TagCloud 类中，tags 属性在构造函数 (__init__) 中初始化为空字典：\n",
    "\n",
    "\n",
    "class TagCloud:\n",
    "# initizlize an instance variable \"tags\" as an empty dictionary     \n",
    "    def __init__(self):\n",
    "        self.tags = {}\n",
    "                \n",
    "    def add(self, tag):\n",
    "        self.tags[tag.lower()] = self.tags.get(tag.lower(), 0) + 1\n",
    "\n",
    "# __getitem__(self, key)：当您使用方括号表示法访问类实例的元素时，将调用此特殊方法。 \n",
    "# 它有两个参数：self（代表实例）和 key（用于访问项目的索引或键）。 \n",
    "# 它负责返回与给定键或索引关联的值。  \n",
    "    def __getitem__(self, tag):\n",
    "        return self.tags.get(tag.lower(), 0)\n",
    "\n",
    "\n",
    "# __setitem__(self, key, value)：\n",
    "# 当您使用方括号表示法将值分配给类实例的元素时，将调用此特殊方法。 \n",
    "# 它需要三个参数：self（表示实例）、key（用于分配项的索引或键）和 value（要分配给给定键的值）\n",
    "    def __setitem__(self, tag, count):\n",
    "        self.tags[tag.lower()] = count\n",
    "        \n",
    "    def __len__(self):\n",
    "        return len(self.tags)\n",
    "    \n",
    "    def __iter__(self):\n",
    "        return iter(self.tags)        \n",
    "    \n",
    "cloud = TagCloud()\n",
    "\n",
    "# This sets the count of the tag 'python' to 10 \n",
    "# using the __setitem__ method.\n",
    "cloud['python'] = 10\n",
    "\n",
    "\n",
    "cloud.add('Python')\n",
    "cloud.add('python')\n",
    "cloud.add('java')\n",
    "\n",
    "print(len(cloud))\n",
    "\n",
    "for tag in cloud.tags:\n",
    "    print(tag)\n",
    "\n",
    "print(cloud.tags)\n"
   ]
  },
  {
   "cell_type": "markdown",
   "id": "40af92e6",
   "metadata": {},
   "source": [
    "# real world example (inherience):"
   ]
  },
  {
   "cell_type": "code",
   "execution_count": 60,
   "id": "ecd2cfef",
   "metadata": {},
   "outputs": [
    {
     "name": "stdout",
     "output_type": "stream",
     "text": [
      "1 1\n",
      "walk\n",
      "swim\n"
     ]
    }
   ],
   "source": [
    "class Animal:\n",
    "    def __init__(self):\n",
    "        self.age = 1\n",
    "    def eat(self):\n",
    "        print('eat')\n",
    "\n",
    "# animal: parent, base\n",
    "# mammal: child, sub\n",
    "\n",
    "class Mammal(Animal):\n",
    "    def walk(self):\n",
    "        print('walk')\n",
    "\n",
    "class Fish(Animal):\n",
    "    def swim(self):\n",
    "        print('swim')\n",
    "        \n",
    "cat = Mammal()\n",
    "trout = Fish()\n",
    "print(cat.age, trout.age)\n",
    "cat.walk()\n",
    "trout.swim()\n",
    "\n",
    "        "
   ]
  },
  {
   "cell_type": "markdown",
   "id": "80f6e035",
   "metadata": {},
   "source": [
    "# overriding!\n"
   ]
  },
  {
   "cell_type": "code",
   "execution_count": 62,
   "id": "65c04240",
   "metadata": {},
   "outputs": [
    {
     "name": "stdout",
     "output_type": "stream",
     "text": [
      "2\n"
     ]
    },
    {
     "ename": "AttributeError",
     "evalue": "'Mammal' object has no attribute 'age'",
     "output_type": "error",
     "traceback": [
      "\u001b[0;31m---------------------------------------------------------------------------\u001b[0m",
      "\u001b[0;31mAttributeError\u001b[0m                            Traceback (most recent call last)",
      "Cell \u001b[0;32mIn[62], line 18\u001b[0m\n\u001b[1;32m     16\u001b[0m m \u001b[38;5;241m=\u001b[39m Mammal()\n\u001b[1;32m     17\u001b[0m \u001b[38;5;28mprint\u001b[39m(m\u001b[38;5;241m.\u001b[39mweight)\n\u001b[0;32m---> 18\u001b[0m \u001b[38;5;28mprint\u001b[39m(\u001b[43mm\u001b[49m\u001b[38;5;241;43m.\u001b[39;49m\u001b[43mage\u001b[49m)\n",
      "\u001b[0;31mAttributeError\u001b[0m: 'Mammal' object has no attribute 'age'"
     ]
    }
   ],
   "source": [
    "class Animal:\n",
    "    def __init__(self):\n",
    "        self.age = 1\n",
    "    def eat(self):\n",
    "        print('eat')\n",
    "\n",
    "class Mammal(Animal):\n",
    "# when you wanna define the initial weight of a mammal:\n",
    "    \n",
    "    def __init__(self):\n",
    "        self.weight = 2\n",
    "        \n",
    "    def walk(self):\n",
    "        print('walk')\n",
    "\n",
    "m = Mammal()\n",
    "print(m.weight)\n",
    "print(m.age)\n",
    "\n"
   ]
  },
  {
   "cell_type": "code",
   "execution_count": 66,
   "id": "549f7323",
   "metadata": {},
   "outputs": [
    {
     "name": "stdout",
     "output_type": "stream",
     "text": [
      "Animal Constructor\n",
      "Mammal Constructor\n",
      "2\n",
      "1\n"
     ]
    }
   ],
   "source": [
    "class Animal:\n",
    "    def __init__(self):\n",
    "        print('Animal Constructor')\n",
    "        self.age = 1\n",
    "    def eat(self):\n",
    "        print('eat')\n",
    "\n",
    "class Mammal(Animal):\n",
    "# when you wanna define the initial weight of a mammal:\n",
    "    \n",
    "    def __init__(self):\n",
    "        super().__init__()    #注意这里没有self\n",
    "        print(\"Mammal Constructor\")\n",
    "        self.weight = 2\n",
    "        \n",
    "    def walk(self):\n",
    "        print('walk')\n",
    "\n",
    "m = Mammal()\n",
    "print(m.weight)\n",
    "print(m.age)\n",
    "\n"
   ]
  },
  {
   "cell_type": "markdown",
   "id": "d216f293",
   "metadata": {},
   "source": [
    "# sys\n"
   ]
  },
  {
   "cell_type": "code",
   "execution_count": 68,
   "id": "5ecbfe31",
   "metadata": {},
   "outputs": [
    {
     "name": "stdout",
     "output_type": "stream",
     "text": [
      "['/Users/wsh/Jupyter_MLpractice', '/Library/Frameworks/Python.framework/Versions/3.8/lib/python38.zip', '/Library/Frameworks/Python.framework/Versions/3.8/lib/python3.8', '/Library/Frameworks/Python.framework/Versions/3.8/lib/python3.8/lib-dynload', '', '/Library/Frameworks/Python.framework/Versions/3.8/lib/python3.8/site-packages']\n"
     ]
    }
   ],
   "source": [
    "# import module_name\n",
    "import sys\n",
    "\n",
    "print(sys.path)"
   ]
  },
  {
   "cell_type": "code",
   "execution_count": 70,
   "id": "142cf3b0",
   "metadata": {},
   "outputs": [],
   "source": [
    "# from package import modules：\n",
    "\n",
    "# import ecommerce.sales #ecommerce 作为package，有__init__.py文件"
   ]
  },
  {
   "cell_type": "code",
   "execution_count": null,
   "id": "0cb19865",
   "metadata": {},
   "outputs": [],
   "source": [
    "#  while if the 'shopping' folder is not a package since it does not have the  __init__.py file:\n",
    "#  from ecommerce.shopping import sales "
   ]
  },
  {
   "cell_type": "markdown",
   "id": "7f196051",
   "metadata": {},
   "source": [
    "# path"
   ]
  },
  {
   "cell_type": "code",
   "execution_count": 71,
   "id": "1648729d",
   "metadata": {},
   "outputs": [
    {
     "data": {
      "text/plain": [
       "PosixPath('/Users/wsh')"
      ]
     },
     "execution_count": 71,
     "metadata": {},
     "output_type": "execute_result"
    }
   ],
   "source": [
    "from pathlib import Path\n",
    "\n",
    "Path.home()\n",
    " "
   ]
  },
  {
   "cell_type": "markdown",
   "id": "776fa20b",
   "metadata": {},
   "source": [
    "# csv\n"
   ]
  },
  {
   "cell_type": "markdown",
   "id": "ed8e81f8",
   "metadata": {},
   "source": [
    "### write csv"
   ]
  },
  {
   "cell_type": "code",
   "execution_count": 72,
   "id": "afc4eed9",
   "metadata": {},
   "outputs": [],
   "source": [
    "import csv\n",
    "\n",
    "with open('data.csv', 'w') as file:\n",
    "    writer = csv.writer(file)\n",
    "    writer.writerow(['trasaction_id', 'product_id','price'])\n",
    "    writer.writerow([1000, 1, 5])\n",
    "    writer.writerow([1001, 2, 15])"
   ]
  },
  {
   "cell_type": "markdown",
   "id": "302aaa2b",
   "metadata": {},
   "source": [
    "### read csv"
   ]
  },
  {
   "cell_type": "code",
   "execution_count": 80,
   "id": "55fb69c2",
   "metadata": {},
   "outputs": [
    {
     "name": "stdout",
     "output_type": "stream",
     "text": [
      "['trasaction_id', 'product_id', 'price']\n",
      "['1000', '1', '5']\n",
      "['1001', '2', '15']\n"
     ]
    }
   ],
   "source": [
    "import csv\n",
    "\n",
    "with open('data.csv') as file:\n",
    "    bmps = csv.reader(file)\n",
    "#     call the list function to list all the data\n",
    "#     print(list(bmps))\n",
    "    for row in bmps:\n",
    "        print(row)\n",
    "    "
   ]
  },
  {
   "cell_type": "markdown",
   "id": "aeaf39f7",
   "metadata": {},
   "source": [
    "# generate random values"
   ]
  },
  {
   "cell_type": "code",
   "execution_count": 91,
   "id": "aacf66e4",
   "metadata": {},
   "outputs": [
    {
     "name": "stdout",
     "output_type": "stream",
     "text": [
      "0.5627660978043416\n",
      "10\n",
      "1\n",
      "[2, 1]\n",
      "yes\n"
     ]
    }
   ],
   "source": [
    "import random\n",
    "\n",
    "print(random.random())\n",
    "print(random.randint(1, 10))\n",
    "print(random.choice([1, 2, 3, 4]))\n",
    "# 认真看好是choices，k=2\n",
    "print(random.choices([1, 2, 3, 4], k = 2))\n",
    "print(random.choice(['yes', 'no']))"
   ]
  },
  {
   "cell_type": "code",
   "execution_count": 93,
   "id": "ee638f8e",
   "metadata": {},
   "outputs": [
    {
     "name": "stdout",
     "output_type": "stream",
     "text": [
      "f,a,a,h\n"
     ]
    }
   ],
   "source": [
    "import random\n",
    "\n",
    "print(','.join(random.choices('abcdefjhi', k = 4)))"
   ]
  },
  {
   "cell_type": "code",
   "execution_count": 102,
   "id": "ffb83d6d",
   "metadata": {},
   "outputs": [
    {
     "name": "stdout",
     "output_type": "stream",
     "text": [
      "aoBxv\n",
      "[1, 3, 2, 4]\n"
     ]
    }
   ],
   "source": [
    "import random\n",
    "import string\n",
    "\n",
    "# print(string.ascii_letters)\n",
    "# print(string.digits)\n",
    "\n",
    "## 生成随机数字！\n",
    "\n",
    "print(''.join(random.choices(string.ascii_letters + string.digits, k = 5)))\n",
    "\n",
    "\n",
    "# 打乱数列顺序！\n",
    "numbers = [1, 2, 3, 4]\n",
    "random.shuffle(numbers)\n",
    "print(numbers)"
   ]
  },
  {
   "cell_type": "markdown",
   "id": "ed998cc8",
   "metadata": {},
   "source": [
    "\n",
    "# 自动打开网址！\n"
   ]
  },
  {
   "cell_type": "code",
   "execution_count": 103,
   "id": "762af6ba",
   "metadata": {},
   "outputs": [
    {
     "name": "stdout",
     "output_type": "stream",
     "text": [
      "Deployment completed\n"
     ]
    },
    {
     "data": {
      "text/plain": [
       "True"
      ]
     },
     "execution_count": 103,
     "metadata": {},
     "output_type": "execute_result"
    }
   ],
   "source": [
    "import webbrowser\n",
    "\n",
    "print('Deployment completed')\n",
    "webbrowser.open('http://google.com')"
   ]
  }
 ],
 "metadata": {
  "kernelspec": {
   "display_name": "Python 3 (ipykernel)",
   "language": "python",
   "name": "python3"
  },
  "language_info": {
   "codemirror_mode": {
    "name": "ipython",
    "version": 3
   },
   "file_extension": ".py",
   "mimetype": "text/x-python",
   "name": "python",
   "nbconvert_exporter": "python",
   "pygments_lexer": "ipython3",
   "version": "3.8.10"
  }
 },
 "nbformat": 4,
 "nbformat_minor": 5
}
