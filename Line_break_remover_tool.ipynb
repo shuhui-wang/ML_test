{
 "cells": [
  {
   "cell_type": "code",
   "execution_count": 2,
   "id": "24bf4cd4",
   "metadata": {},
   "outputs": [],
   "source": [
    "def remove_line_breaks(paragraph):\n",
    "    return paragraph.replace('\\n', ' ')\n",
    "\n",
    "\n",
    "def main():\n",
    "    with open('input_paragraph.txt', 'r') as file:\n",
    "        paragraph = file.read()\n",
    "\n",
    "    result = remove_line_breaks(paragraph)\n",
    "\n",
    "    with open('output_paragraph.txt', 'w') as output_file:\n",
    "        output_file.write(result)\n",
    "\n",
    "\n",
    "if __name__ == \"__main__\":\n",
    "    main()"
   ]
  },
  {
   "cell_type": "code",
   "execution_count": null,
   "id": "d61a5ec8",
   "metadata": {},
   "outputs": [],
   "source": []
  }
 ],
 "metadata": {
  "kernelspec": {
   "display_name": "Python 3 (ipykernel)",
   "language": "python",
   "name": "python3"
  },
  "language_info": {
   "codemirror_mode": {
    "name": "ipython",
    "version": 3
   },
   "file_extension": ".py",
   "mimetype": "text/x-python",
   "name": "python",
   "nbconvert_exporter": "python",
   "pygments_lexer": "ipython3",
   "version": "3.8.10"
  }
 },
 "nbformat": 4,
 "nbformat_minor": 5
}
