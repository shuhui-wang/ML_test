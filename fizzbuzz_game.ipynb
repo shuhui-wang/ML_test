{
 "cells": [
  {
   "cell_type": "code",
   "execution_count": 4,
   "id": "c0356fd7",
   "metadata": {},
   "outputs": [
    {
     "name": "stdout",
     "output_type": "stream",
     "text": [
      "120\n"
     ]
    }
   ],
   "source": [
    "def multiply(*numbers):\n",
    "    total = 1\n",
    "    for number in numbers:\n",
    "        total = total * number\n",
    "    return total\n",
    "print(multiply(2, 3, 4, 5))"
   ]
  },
  {
   "cell_type": "markdown",
   "id": "9f6ffa68",
   "metadata": {},
   "source": [
    "## my practice"
   ]
  },
  {
   "cell_type": "code",
   "execution_count": 16,
   "id": "938c5b7d",
   "metadata": {},
   "outputs": [
    {
     "name": "stdout",
     "output_type": "stream",
     "text": [
      "7\n"
     ]
    }
   ],
   "source": [
    "def fizz_buzz(input):\n",
    "    if (input % 3) and (input % 5) == 0:\n",
    "        result = 'FizzBuzz'\n",
    "    elif input % 5 == 0:\n",
    "        result = 'Fizz'\n",
    "    elif input % 3 == 0:\n",
    "        result = 'Buzz'\n",
    "    else: \n",
    "        result = input\n",
    "    return result\n",
    "\n",
    "print(fizz_buzz(7))"
   ]
  },
  {
   "cell_type": "markdown",
   "id": "cae54d6f",
   "metadata": {},
   "source": [
    "## recommend method"
   ]
  },
  {
   "cell_type": "code",
   "execution_count": 11,
   "id": "d713eb6e",
   "metadata": {},
   "outputs": [
    {
     "name": "stdout",
     "output_type": "stream",
     "text": [
      "Buzz\n"
     ]
    }
   ],
   "source": [
    "def fizz_buzz(input):\n",
    "    if (input % 3) and (input % 5) == 0:\n",
    "        return 'Fizz'\n",
    "    elif input % 5 == 0:\n",
    "        return 'Buzz'\n",
    "    elif input % 3 == 0:\n",
    "        return 'FizzBuzz'\n",
    "    else: \n",
    "        return input\n",
    "\n",
    "        \n",
    "print(fizz_buzz(15))\n",
    "    "
   ]
  },
  {
   "cell_type": "code",
   "execution_count": null,
   "id": "b3fac1c3",
   "metadata": {},
   "outputs": [],
   "source": []
  }
 ],
 "metadata": {
  "kernelspec": {
   "display_name": "Python 3 (ipykernel)",
   "language": "python",
   "name": "python3"
  },
  "language_info": {
   "codemirror_mode": {
    "name": "ipython",
    "version": 3
   },
   "file_extension": ".py",
   "mimetype": "text/x-python",
   "name": "python",
   "nbconvert_exporter": "python",
   "pygments_lexer": "ipython3",
   "version": "3.8.10"
  }
 },
 "nbformat": 4,
 "nbformat_minor": 5
}
